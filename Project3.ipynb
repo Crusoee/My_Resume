{
  "cells": [
    {
      "cell_type": "markdown",
      "metadata": {},
      "source": [
        "## W07.1 - U3 (Week B) - Class Code\n",
        "\n",
        "\n",
        "```{=html}\n",
        "<iframe id=\"kaltura_player\" src=\"https://cdnapisec.kaltura.com/p/1157612/sp/115761200/embedIframeJs/uiconf_id/41338032/partner_id/1157612?iframeembed=true&playerId=kaltura_player&entry_id=1_krp9ct2r&flashvars[localizationCode]=en&amp;flashvars[sideBarContainer.plugin]=true&amp;flashvars[sideBarContainer.position]=left&amp;flashvars[sideBarContainer.clickToClose]=true&amp;flashvars[chapters.plugin]=true&amp;flashvars[chapters.layout]=vertical&amp;flashvars[chapters.thumbnailRotator]=false&amp;flashvars[streamSelector.plugin]=true&amp;flashvars[EmbedPlayer.SpinnerTarget]=videoHolder&amp;flashvars[dualScreen.plugin]=true&amp;flashvars[Kaltura.addCrossoriginToIframe]=true&amp;&wid=1_gd2vefwz\" width=\"608\" height=\"402\" allowfullscreen webkitallowfullscreen mozAllowFullScreen allow=\"autoplay *; fullscreen *; encrypted-media *\" sandbox=\"allow-downloads allow-forms allow-same-origin allow-scripts allow-top-navigation allow-pointer-lock allow-popups allow-modals allow-orientation-lock allow-popups-to-escape-sandbox allow-presentation allow-top-navigation-by-user-activation\" frameborder=\"0\" title=\"W07\"></iframe>\n",
        "```\n",
        "\n",
        "\n",
        "### Introduction to the functions you will be learning in this unit. Below is the code used in the video so you can follow along.\n"
      ],
      "id": "ccea69d2"
    },
    {
      "cell_type": "code",
      "metadata": {},
      "source": [
        "# %%\n",
        "import pandas as pd \n",
        "import numpy as np\n",
        "import plotly.express as px\n",
        "import sqlite3"
      ],
      "id": "02499312",
      "execution_count": null,
      "outputs": []
    },
    {
      "cell_type": "code",
      "metadata": {},
      "source": [
        "# %%\n",
        "# Upgrade pip if needed\n",
        "import sys\n",
        "!{sys.executable} -m pip install --upgrade pip"
      ],
      "id": "18c2e6e0",
      "execution_count": null,
      "outputs": []
    },
    {
      "cell_type": "code",
      "metadata": {},
      "source": [
        "# %%\n",
        "# careful to list your path to the file. Or save this code in the same folder as the sqlite file.\n",
        "sqlite_file = 'lahmansbaseballdb.sqlite'\n",
        "con = sqlite3.connect(sqlite_file)"
      ],
      "id": "9414a390",
      "execution_count": null,
      "outputs": []
    },
    {
      "cell_type": "code",
      "metadata": {},
      "source": [
        "# %%\n",
        "q = '''SELECT cp.playerID, schoolID, salary, cp.yearID, teamID \n",
        "        FROM salaries s join collegeplaying cp on cp.playerID = s.playerID \n",
        "        Where schoolID = 'idbyuid'\n",
        "        Order by s.salary desc'''\n",
        "batting5 = pd.read_sql_query(q,con)\n",
        "batting5"
      ],
      "id": "9628b17a",
      "execution_count": null,
      "outputs": []
    },
    {
      "cell_type": "code",
      "metadata": {},
      "source": [
        "# %%\n",
        "\n",
        "q = '''\n",
        "\n",
        "SELECT playerID, yearID, CAST(AB AS FLOAT), CAST(H AS FLOAT), CAST(H AS FLOAT)/ CAST(AB AS FLOAT) as battingAverage\n",
        "FROM batting\n",
        "WHERE AB >= 1\n",
        "ORDER BY battingAverage desc, playerID\n",
        "LIMIT 5\n",
        "\n",
        "'''\n",
        "\n",
        "battingAverage = pd.read_sql_query(q,con)\n",
        "battingAverage"
      ],
      "id": "a6ac178e",
      "execution_count": null,
      "outputs": []
    },
    {
      "cell_type": "code",
      "metadata": {},
      "source": [
        "# %%\n",
        "# What columns do we want to select?\n",
        "q = '''\n",
        "\n",
        "SELECT playerID, yearID, CAST(AB AS FLOAT), CAST(H AS FLOAT), CAST(H AS FLOAT)/ CAST(AB AS FLOAT) as battingAverage\n",
        "FROM batting\n",
        "WHERE AB >= 10\n",
        "ORDER BY battingAverage desc, playerID\n",
        "LIMIT 5\n",
        "\n",
        "'''\n",
        "\n",
        "battingAverage = pd.read_sql_query(q,con)\n",
        "battingAverage"
      ],
      "id": "23554d5c",
      "execution_count": null,
      "outputs": []
    },
    {
      "cell_type": "code",
      "metadata": {},
      "source": [
        "# %%\n",
        "# What calculation do we want to perform?\n",
        "\n",
        "q = '''\n",
        "\n",
        "SELECT playerID, yearID, CAST(AB AS FLOAT), CAST(H AS FLOAT), SUM(CAST(H AS FLOAT))/ SUM(CAST(AB AS FLOAT)) as battingAverage\n",
        "FROM batting\n",
        "WHERE AB >= 100\n",
        "ORDER BY battingAverage desc, playerID\n",
        "LIMIT 5\n",
        "\n",
        "'''\n",
        "\n",
        "battingAverage = pd.read_sql_query(q,con)\n",
        "battingAverage"
      ],
      "id": "26c7bdad",
      "execution_count": null,
      "outputs": []
    },
    {
      "cell_type": "code",
      "metadata": {},
      "source": [
        "# %%\n",
        "# What name do we give our calculated column?\n",
        "\n",
        "q = '''\n",
        "SELECT teamid, \n",
        "        Sum(r) as Total_Runs\n",
        "FROM batting\n",
        "GROUP BY teamid\n",
        "LIMIT 10000\n",
        "'''\n",
        "\n",
        "batting_calc = pd.read_sql_query(q,con)\n",
        "batting_calc\n",
        "\n",
        "fig = px.bar(batting_calc[(batting_calc.teamID == 'BR1') | (batting_calc.teamID == 'BRF')], x='teamID', y='Total_Runs', title='Total Runs by Team')\n",
        "fig.show()"
      ],
      "id": "301ddd0f",
      "execution_count": null,
      "outputs": []
    }
  ],
  "metadata": {
    "kernelspec": {
      "name": "python3",
      "language": "python",
      "display_name": "Python 3 (ipykernel)"
    }
  },
  "nbformat": 4,
  "nbformat_minor": 5
}