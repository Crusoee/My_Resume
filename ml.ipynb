{
  "cells": [
    {
      "cell_type": "raw",
      "metadata": {},
      "source": [
        "---\n",
        "title: \"about me\"\n",
        "subtitle: \"my data science portfolio\"\n",
        "# use quarto markdown to \n",
        "---"
      ],
      "id": "3d5782ce"
    },
    {
      "cell_type": "markdown",
      "metadata": {},
      "source": [
        "## Elevator pitch\n",
        "\n",
        "In this project, I will be looking at the data from the Bureau of Transportation Statistics to see which airports have the least amount of days at which times of the year and other interesting finds within the data!\n",
        "\n",
        "## Loading in The JSON Data\n"
      ],
      "id": "99a15df2"
    },
    {
      "cell_type": "code",
      "metadata": {},
      "source": [
        "#| label: libraries\n",
        "#| include: false\n",
        "import pandas as pd\n",
        "import numpy as np\n",
        "import plotly.express as px\n",
        "import json"
      ],
      "id": "libraries",
      "execution_count": null,
      "outputs": []
    },
    {
      "cell_type": "code",
      "metadata": {},
      "source": [
        "#| label: project-data\n",
        "#| code-summary: Loading the json data and turning it into a dataframe\n",
        "\n",
        "f = open(\"flights_missing.json\",\"r\")\n",
        "\n",
        "x = json.load(f)\n",
        "\n",
        "f.close()\n",
        "\n",
        "df = pd.DataFrame(x)"
      ],
      "id": "project-data",
      "execution_count": null,
      "outputs": []
    },
    {
      "cell_type": "markdown",
      "metadata": {},
      "source": [
        "## Clean Up - Clean Up Everybody Do Your Share\n",
        "__Fix all of the varied missing data types in the data to be consistent__\n"
      ],
      "id": "f4b7d83b"
    },
    {
      "cell_type": "code",
      "metadata": {},
      "source": [
        "#| label: Q1\n",
        "#| code-summary: Cleaning up data and filling NAs\n",
        "# loop through tasks in my tasks list and sort the data by airport to find the mean of certain delays and fill the nan values with their respective mean.\n",
        "\n",
        "tasks = [\"minutes_delayed_carrier\", \"minutes_delayed_nas\"]\n",
        "\n",
        "means = df.groupby(\"airport_code\")[\"minutes_delayed_carrier\"].mean().to_dict()\n",
        "\n",
        "for task in tasks:\n",
        "  for airport in means:\n",
        "    mean_delay = df[df[\"airport_code\"] == airport][task].fillna(means[airport])\n",
        "\n",
        "    df.loc[df[\"airport_code\"] == airport, task] = mean_delay"
      ],
      "id": "Q1",
      "execution_count": null,
      "outputs": []
    },
    {
      "cell_type": "code",
      "metadata": {},
      "source": [
        "#| label: year\n",
        "\n",
        "# This is a quick fix to the nan values in year, but does not take into account if january is a nan value and we forward fill from last year\n",
        "\n",
        "df.year.ffill(inplace=True)"
      ],
      "id": "year",
      "execution_count": null,
      "outputs": []
    },
    {
      "cell_type": "markdown",
      "metadata": {},
      "source": [
        "_include figures in chunks and discuss your findings in the figure._\n"
      ],
      "id": "e23b39d6"
    },
    {
      "cell_type": "code",
      "metadata": {},
      "source": [
        "#| label: fix months\n",
        "# This is a quick fix to the nan values in year, but does not take into account if january is a nan value and we forward fill from last year\n",
        "\n",
        "df = df[df['month'] != 'n/a']\n",
        "\n",
        "df['month'] = df['month'].replace('Febuary', 'February')"
      ],
      "id": "fix-months",
      "execution_count": null,
      "outputs": []
    },
    {
      "cell_type": "markdown",
      "metadata": {},
      "source": [
        "## Delays\n",
        "\n",
        "__Which airport has the worst delays?__\n",
        "\n",
        "From the looks of the graph below, ORD airport has the worst delays over the course of 10 years. This shows that if your looking to take a trip, for a vacation, or on short-term notice, well... Let's hope you don't live where that airport is!\n"
      ],
      "id": "02fa87a1"
    },
    {
      "cell_type": "code",
      "metadata": {},
      "source": [
        "#| label: chart stuff\n",
        "#| code-summary: plot example\n",
        "#| fig-cap: My uselful chart\n",
        "#| fig-align: center\n",
        "\n",
        "chart = px.bar(df,\n",
        "    x=\"airport_code\", \n",
        "    y=\"minutes_delayed_total\",\n",
        "    title=\"Total Minutes in Delays\",\n",
        ")\n",
        "chart.show()"
      ],
      "id": "chart-stuff",
      "execution_count": null,
      "outputs": []
    },
    {
      "cell_type": "markdown",
      "metadata": {},
      "source": [
        "## Best Time to Travel\n",
        "\n",
        "__What is the best month to fly if you want to avoid delays of any length?__\n",
        "\n",
        "It seems to be that November would be the best month to travel because across all the airports, that month has the least delayed time.\n"
      ],
      "id": "0edccf9f"
    },
    {
      "cell_type": "code",
      "metadata": {},
      "source": [
        "#| label: Q1-table\n",
        "#| code-summary: table example\n",
        "#| tbl-cap: Not much of a table\n",
        "#| tbl-cap-location: top\n",
        "\n",
        "grph = px.bar(df,\n",
        "x=\"month\",\n",
        "y=\"minutes_delayed_total\",\n",
        "color=\"airport_code\",\n",
        "title = \"Best Month to Travel\"\n",
        ")\n",
        "grph.show()"
      ],
      "id": "Q1-table",
      "execution_count": null,
      "outputs": []
    },
    {
      "cell_type": "markdown",
      "metadata": {},
      "source": [
        "## Weather\n",
        "\n",
        "__create a new column that calculates the total number of flights delayed by weather (both severe and mild)__\n"
      ],
      "id": "6128aeb7"
    },
    {
      "cell_type": "code",
      "metadata": {},
      "source": [
        "#| label: Q2\n",
        "#| code-summary: Read and format data\n",
        "\n",
        "df[\"weather_delays\"] = df.num_of_flights_total + (df.num_of_delays_late_aircraft * .3) + np.where(df['month'].isin(['April','May','June','July','August']), (df.num_of_delays_nas * .4), (df.num_of_delays_nas * .65))\n"
      ],
      "id": "Q2",
      "execution_count": null,
      "outputs": []
    },
    {
      "cell_type": "markdown",
      "metadata": {},
      "source": [
        "## Weather Delays Compared to Airports\n",
        "\n",
        "__Using the new weather variable calculated above, create a barplot showing the proportion of all flights that are delayed by weather at each airport__\n",
        "\n",
        "It looks like Atlanta, Georgia experiences the most weather delays than any other airport.\n"
      ],
      "id": "dbeccbe9"
    },
    {
      "cell_type": "code",
      "metadata": {},
      "source": [
        "#| label: Q2-chart\n",
        "#| code-summary: plot example\n",
        "#| fig-cap: Chart!\n",
        "#| fig-align: center\n",
        "\n",
        "charts = px.bar(df, x=\"airport_code\", y=\"weather_delays\", title=\"Delays vs Airports\")\n",
        "\n",
        "charts.show()"
      ],
      "id": "Q2-chart",
      "execution_count": null,
      "outputs": []
    },
    {
      "cell_type": "markdown",
      "metadata": {},
      "source": [
        "[MarkDown Basics](https://quarto.org/docs/authoring/markdown-basics.html#links-images)\n"
      ],
      "id": "92cd9b87"
    }
  ],
  "metadata": {
    "kernelspec": {
      "name": "python3",
      "language": "python",
      "display_name": "Python 3 (ipykernel)"
    }
  },
  "nbformat": 4,
  "nbformat_minor": 5
}